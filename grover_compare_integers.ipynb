{
  "nbformat": 4,
  "nbformat_minor": 0,
  "metadata": {
    "colab": {
      "provenance": [],
      "gpuType": "T4"
    },
    "kernelspec": {
      "name": "python3",
      "display_name": "Python 3"
    },
    "language_info": {
      "name": "python"
    },
    "gpuClass": "standard"
  },
  "cells": [
    {
      "cell_type": "code",
      "source": [
        "!pip install qiskit"
      ],
      "metadata": {
        "colab": {
          "base_uri": "https://localhost:8080/"
        },
        "id": "32WyHvu1SukA",
        "outputId": "0b56987f-04a3-47d2-f830-8711cc83f590"
      },
      "execution_count": 1,
      "outputs": [
        {
          "output_type": "stream",
          "name": "stdout",
          "text": [
            "Looking in indexes: https://pypi.org/simple, https://us-python.pkg.dev/colab-wheels/public/simple/\n",
            "Requirement already satisfied: qiskit in /usr/local/lib/python3.10/dist-packages (0.43.0)\n",
            "Requirement already satisfied: qiskit-terra==0.24.0 in /usr/local/lib/python3.10/dist-packages (from qiskit) (0.24.0)\n",
            "Requirement already satisfied: qiskit-aer==0.12.0 in /usr/local/lib/python3.10/dist-packages (from qiskit) (0.12.0)\n",
            "Requirement already satisfied: qiskit-ibmq-provider==0.20.2 in /usr/local/lib/python3.10/dist-packages (from qiskit) (0.20.2)\n",
            "Requirement already satisfied: numpy>=1.16.3 in /usr/local/lib/python3.10/dist-packages (from qiskit-aer==0.12.0->qiskit) (1.22.4)\n",
            "Requirement already satisfied: scipy>=1.0 in /usr/local/lib/python3.10/dist-packages (from qiskit-aer==0.12.0->qiskit) (1.10.1)\n",
            "Requirement already satisfied: requests>=2.19 in /usr/local/lib/python3.10/dist-packages (from qiskit-ibmq-provider==0.20.2->qiskit) (2.27.1)\n",
            "Requirement already satisfied: requests-ntlm<=1.1.0 in /usr/local/lib/python3.10/dist-packages (from qiskit-ibmq-provider==0.20.2->qiskit) (1.1.0)\n",
            "Requirement already satisfied: urllib3>=1.21.1 in /usr/local/lib/python3.10/dist-packages (from qiskit-ibmq-provider==0.20.2->qiskit) (1.26.15)\n",
            "Requirement already satisfied: python-dateutil>=2.8.0 in /usr/local/lib/python3.10/dist-packages (from qiskit-ibmq-provider==0.20.2->qiskit) (2.8.2)\n",
            "Requirement already satisfied: websocket-client>=1.5.1 in /usr/local/lib/python3.10/dist-packages (from qiskit-ibmq-provider==0.20.2->qiskit) (1.5.1)\n",
            "Requirement already satisfied: websockets>=10.0 in /usr/local/lib/python3.10/dist-packages (from qiskit-ibmq-provider==0.20.2->qiskit) (11.0.3)\n",
            "Requirement already satisfied: rustworkx>=0.12.0 in /usr/local/lib/python3.10/dist-packages (from qiskit-terra==0.24.0->qiskit) (0.12.1)\n",
            "Requirement already satisfied: ply>=3.10 in /usr/local/lib/python3.10/dist-packages (from qiskit-terra==0.24.0->qiskit) (3.11)\n",
            "Requirement already satisfied: psutil>=5 in /usr/local/lib/python3.10/dist-packages (from qiskit-terra==0.24.0->qiskit) (5.9.5)\n",
            "Requirement already satisfied: sympy>=1.3 in /usr/local/lib/python3.10/dist-packages (from qiskit-terra==0.24.0->qiskit) (1.11.1)\n",
            "Requirement already satisfied: dill>=0.3 in /usr/local/lib/python3.10/dist-packages (from qiskit-terra==0.24.0->qiskit) (0.3.6)\n",
            "Requirement already satisfied: stevedore>=3.0.0 in /usr/local/lib/python3.10/dist-packages (from qiskit-terra==0.24.0->qiskit) (5.1.0)\n",
            "Requirement already satisfied: symengine<0.10,>=0.9 in /usr/local/lib/python3.10/dist-packages (from qiskit-terra==0.24.0->qiskit) (0.9.2)\n",
            "Requirement already satisfied: six>=1.5 in /usr/local/lib/python3.10/dist-packages (from python-dateutil>=2.8.0->qiskit-ibmq-provider==0.20.2->qiskit) (1.16.0)\n",
            "Requirement already satisfied: certifi>=2017.4.17 in /usr/local/lib/python3.10/dist-packages (from requests>=2.19->qiskit-ibmq-provider==0.20.2->qiskit) (2022.12.7)\n",
            "Requirement already satisfied: charset-normalizer~=2.0.0 in /usr/local/lib/python3.10/dist-packages (from requests>=2.19->qiskit-ibmq-provider==0.20.2->qiskit) (2.0.12)\n",
            "Requirement already satisfied: idna<4,>=2.5 in /usr/local/lib/python3.10/dist-packages (from requests>=2.19->qiskit-ibmq-provider==0.20.2->qiskit) (3.4)\n",
            "Requirement already satisfied: ntlm-auth>=1.0.2 in /usr/local/lib/python3.10/dist-packages (from requests-ntlm<=1.1.0->qiskit-ibmq-provider==0.20.2->qiskit) (1.5.0)\n",
            "Requirement already satisfied: cryptography>=1.3 in /usr/local/lib/python3.10/dist-packages (from requests-ntlm<=1.1.0->qiskit-ibmq-provider==0.20.2->qiskit) (40.0.2)\n",
            "Requirement already satisfied: pbr!=2.1.0,>=2.0.0 in /usr/local/lib/python3.10/dist-packages (from stevedore>=3.0.0->qiskit-terra==0.24.0->qiskit) (5.11.1)\n",
            "Requirement already satisfied: mpmath>=0.19 in /usr/local/lib/python3.10/dist-packages (from sympy>=1.3->qiskit-terra==0.24.0->qiskit) (1.3.0)\n",
            "Requirement already satisfied: cffi>=1.12 in /usr/local/lib/python3.10/dist-packages (from cryptography>=1.3->requests-ntlm<=1.1.0->qiskit-ibmq-provider==0.20.2->qiskit) (1.15.1)\n",
            "Requirement already satisfied: pycparser in /usr/local/lib/python3.10/dist-packages (from cffi>=1.12->cryptography>=1.3->requests-ntlm<=1.1.0->qiskit-ibmq-provider==0.20.2->qiskit) (2.21)\n"
          ]
        }
      ]
    },
    {
      "cell_type": "code",
      "execution_count": 2,
      "metadata": {
        "id": "CLghxpz-SqHN"
      },
      "outputs": [],
      "source": [
        "def encode_integers(a, b):\n",
        "    max_bits = max(a.bit_length(), b.bit_length()) + 1  # extra bit for sign\n",
        "    a_binary = format(a & int(\"1\" * max_bits, 2), f\"0{max_bits}b\")\n",
        "    b_binary = format(b & int(\"1\" * max_bits, 2), f\"0{max_bits}b\")\n",
        "\n",
        "    #print(\"a_binary = \", a_binary)\n",
        "    #print(\"b_binary = \", b_binary)\n",
        "\n",
        "    return a_binary, b_binary\n"
      ]
    },
    {
      "cell_type": "code",
      "source": [
        "from qiskit import QuantumCircuit, Aer, execute\n",
        "from qiskit.visualization import plot_histogram\n",
        "\n",
        "def create_comparison_oracle(a_binary, b_binary):\n",
        "    n = max(len(a_binary), len(b_binary))\n",
        "\n",
        "    # Pad the binary representations with leading zeros to have the same length\n",
        "    a_binary = a_binary.zfill(n)\n",
        "    b_binary = b_binary.zfill(n)\n",
        "\n",
        "    qc = QuantumCircuit(n * 2 + 1)\n",
        "\n",
        "    for i in range(n):\n",
        "        if a_binary[-i - 1] == '1':\n",
        "            qc.x(i)\n",
        "        if b_binary[-i - 1] == '1':\n",
        "            qc.x(n + i)\n",
        "\n",
        "    # Handle sign bits for negative numbers\n",
        "    qc.cx(0, n)\n",
        "    qc.cx(n - 1, 2 * n)\n",
        "\n",
        "    for i in range(1, n):\n",
        "        qc.cx(i, n + i)\n",
        "\n",
        "    qc.barrier()\n",
        "\n",
        "    for i in range(1, n - 1):\n",
        "        qc.ccx(n + i, n + i + 1, 2 * n)\n",
        "\n",
        "    # Add extra handling for negative numbers\n",
        "    qc.cx(0, n)\n",
        "    qc.cx(n - 1, 2 * n)\n",
        "    qc.ccx(n - 1, 0, 2 * n)\n",
        "\n",
        "    qc.barrier()\n",
        "\n",
        "    for i in range(1, n):\n",
        "        qc.cx(i, n + i)\n",
        "\n",
        "    # Add a final CNOT gate to handle the sign bit difference\n",
        "    qc.cx(0, 2 * n)\n",
        "\n",
        "    return qc\n"
      ],
      "metadata": {
        "id": "Ic4qT1KvSrCY"
      },
      "execution_count": 3,
      "outputs": []
    },
    {
      "cell_type": "code",
      "source": [
        "def create_diffuser(n):\n",
        "    qc = QuantumCircuit(n)\n",
        "\n",
        "    # Apply transformation |s> -> |00..0> (H-gates)\n",
        "    qc.h(range(n))\n",
        "    # Apply transformation |00..0> -> |11..1> (X-gates)\n",
        "    qc.x(range(n))\n",
        "    # Do multi-controlled-Z gate\n",
        "    qc.h(n-1)\n",
        "    qc.mct(list(range(n-1)), n-1)  # multi-controlled-toffoli\n",
        "    qc.h(n-1)\n",
        "    # Apply transformation |11..1> -> |00..0>\n",
        "    qc.x(range(n))\n",
        "    # Apply transformation |00..0> -> |s>\n",
        "    qc.h(range(n))\n",
        "\n",
        "    # Convert to a gate and return\n",
        "    diffuser = qc.to_gate()\n",
        "    diffuser.name = \"U$_s$\"\n",
        "\n",
        "    return diffuser"
      ],
      "metadata": {
        "id": "Inl2h_0GTqwL"
      },
      "execution_count": 4,
      "outputs": []
    },
    {
      "cell_type": "code",
      "source": [
        "def custom_measure(qc, a_qubits, b_qubits, ancilla_qubit, classical_register):\n",
        "    # Measure the ancilla qubit\n",
        "    qc.measure(ancilla_qubit, classical_register[0])\n",
        "\n",
        "    # Measure a's register if ancilla is |1>\n",
        "    for i, qubit in enumerate(a_qubits):\n",
        "        qc.measure(qubit, classical_register[i + 1]).c_if(classical_register[0], 1)\n",
        "\n",
        "    # Measure b's register if ancilla is |0>\n",
        "    for i, qubit in enumerate(b_qubits):\n",
        "        qc.measure(qubit, classical_register[i + 1]).c_if(classical_register[0], 0)\n",
        "\n",
        "\n",
        "def run_grover(a, b, num_iterations):\n",
        "    a_binary, b_binary = encode_integers(a, b)\n",
        "    \n",
        "    comparison_oracle = create_comparison_oracle(a_binary, b_binary)\n",
        "    n = comparison_oracle.num_qubits - 1\n",
        "\n",
        "    diffuser = create_diffuser(n)\n",
        "\n",
        "    '''\n",
        "    The output histogram's x-axis shows 5 qubits instead of 4 because the custom measurement function \n",
        "    is designed to measure the ancilla qubit and the larger integer's qubits.\n",
        "\n",
        "    The ancilla qubit indicates which integer is larger (|1⟩ for a > b and |0⟩ for b > a), \n",
        "    and the following 4 qubits represent the larger integer.\n",
        "    '''\n",
        "    qc = QuantumCircuit(n + 1, 5)\n",
        "\n",
        "    qc.append(comparison_oracle, range(n + 1))\n",
        "    for _ in range(num_iterations):\n",
        "        qc.append(diffuser, range(n))\n",
        "        qc.append(comparison_oracle, range(n + 1))\n",
        "    \n",
        "    # Use the custom measurement function\n",
        "    custom_measure(qc, [0, 1, 2], [3, 4, 5], n, qc.clbits)\n",
        "\n",
        "    backend = Aer.get_backend('qasm_simulator')\n",
        "    job = execute(qc, backend, shots=1000)\n",
        "    result = job.result()\n",
        "    counts = result.get_counts(qc)\n",
        "    return counts"
      ],
      "metadata": {
        "id": "97I5BaVUvjA3"
      },
      "execution_count": 5,
      "outputs": []
    },
    {
      "cell_type": "code",
      "source": [
        "from tqdm import tqdm\n",
        "\n",
        "def run_grover_multiple_times(a, b, num_iterations, num_runs):\n",
        "    aggregated_counts = {}\n",
        " \n",
        "    for _ in tqdm(range(num_runs)):\n",
        "        counts = run_grover(a, b, num_iterations)\n",
        "        for key, value in counts.items():\n",
        "            if key in aggregated_counts:\n",
        "                aggregated_counts[key] += value\n",
        "            else:\n",
        "                aggregated_counts[key] = value\n",
        "                \n",
        "    return aggregated_counts"
      ],
      "metadata": {
        "id": "rlzXkD1v52Hl"
      },
      "execution_count": 6,
      "outputs": []
    },
    {
      "cell_type": "code",
      "source": [
        "import matplotlib.pyplot as plt\n",
        "\n",
        "def plot_histogram_vertical_labels(data, **kwargs):\n",
        "    # Extract labels and counts from the data\n",
        "    labels = list(data.keys())\n",
        "    counts = list(data.values())\n",
        "    \n",
        "    # Create the bar plot\n",
        "    fig, ax = plt.subplots()\n",
        "    bars = ax.bar(labels, counts, **kwargs)\n",
        "\n",
        "    # Rotate the x-axis labels to be displayed vertically\n",
        "    plt.setp(ax.get_xticklabels(), rotation='vertical', fontsize=8)\n",
        "\n",
        "    # Display the counts above the bars, rotated vertically\n",
        "    for bar, count in zip(bars, counts):\n",
        "        ax.text(bar.get_x() + bar.get_width() / 2, bar.get_height(),\n",
        "                str(count), ha='center', va='bottom', rotation='vertical', fontsize=8)\n",
        "\n",
        "    # Show the plot\n",
        "    plt.show()\n",
        "\n",
        "    # Finds the most probable value after aggregrated runs\n",
        "    highest_count_key = max(data, key=data.get)\n",
        "    highest_count_value = data[highest_count_key]\n",
        "\n",
        "    print(\"Highest count label:\", highest_count_key)\n",
        "    print(\"Highest count value:\", highest_count_value)\n",
        "\n",
        "    return highest_count_key\n",
        "    "
      ],
      "metadata": {
        "id": "Vv3TD9-b6iMT"
      },
      "execution_count": 7,
      "outputs": []
    },
    {
      "cell_type": "markdown",
      "source": [
        "N is the size of the search space and M is the number of solutions\n",
        "\n",
        "See https://qiskit.org/documentation/tutorials/algorithms/06_grover.html#The-number-of-iterations\n",
        "\n",
        "the search space size is 2^4 = 16, and there is only one solution (00011). Therefore, the optimal number of iterations should be around:"
      ],
      "metadata": {
        "id": "9T8jRBTU94Qs"
      }
    },
    {
      "cell_type": "code",
      "source": [
        "import math\n",
        "from qiskit.algorithms import Grover\n",
        "\n",
        "a = -5\n",
        "b = -6\n",
        "\n",
        "max_bits = max(a.bit_length(), b.bit_length()) + 1  # extra bit for sign\n",
        "#print(\"max_bits = \", max_bits)\n",
        "\n",
        "N = 2**max_bits\n",
        "M = 1  # because we are selecting the larger integer between a and b, so only 1 solution\n",
        "\n",
        "# Subtracts 1 to account for the zero-indexed iteration count.\n",
        "optimal_iterations = Grover.optimal_num_iterations(num_solutions=M, num_qubits=max_bits) - 1  # int(math.floor((math.pi / 4) * math.sqrt(N / M))) - 1\n",
        "print(\"optimal_iterations = \", optimal_iterations)"
      ],
      "metadata": {
        "colab": {
          "base_uri": "https://localhost:8080/"
        },
        "id": "6RZDIhRp9rc5",
        "outputId": "413aaef2-58ff-4308-9fed-a7f8fc4ae22a"
      },
      "execution_count": 8,
      "outputs": [
        {
          "output_type": "stream",
          "name": "stdout",
          "text": [
            "optimal_iterations =  2\n"
          ]
        }
      ]
    },
    {
      "cell_type": "code",
      "source": [
        "num_iterations = optimal_iterations\n",
        "\n",
        "num_runs = 100\n",
        "counts = run_grover_multiple_times(a, b, num_iterations, num_runs)\n",
        "\n",
        "# Use the custom function with aggregated_counts\n",
        "highest_count_key = plot_histogram_vertical_labels(counts)"
      ],
      "metadata": {
        "colab": {
          "base_uri": "https://localhost:8080/",
          "height": 527
        },
        "id": "h5QjvSL7wdA7",
        "outputId": "3aae4c50-ca3e-4fe2-b629-18e9da275642"
      },
      "execution_count": 9,
      "outputs": [
        {
          "output_type": "stream",
          "name": "stderr",
          "text": [
            "100%|██████████| 100/100 [00:05<00:00, 17.31it/s]\n"
          ]
        },
        {
          "output_type": "display_data",
          "data": {
            "text/plain": [
              "<Figure size 640x480 with 1 Axes>"
            ],
            "image/png": "[encoded data removed]"
          },
          "metadata": {}
        },
        {
          "output_type": "stream",
          "name": "stdout",
          "text": [
            "Highest count label: 01010\n",
            "Highest count value: 98928\n"
          ]
        }
      ]
    },
    {
      "cell_type": "code",
      "source": [
        "def twos_complement_to_normal(binary_str):\n",
        "    bits = len(binary_str)\n",
        "    num = int(binary_str, 2)\n",
        "\n",
        "    # Check if the number is negative\n",
        "    if (num & (1 << (bits - 1))) != 0:\n",
        "        num = -(~num + 1 & ((1 << bits) - 1))\n",
        "\n",
        "    # Get the absolute value and convert back to binary string\n",
        "    return bin(abs(num))[2:]\n",
        "\n",
        "\n",
        "def decode_output(output, a_binary, b_binary):\n",
        "    comparison_bit = output[0]\n",
        "    encoded_result = output[1:]\n",
        "    if comparison_bit == '0':\n",
        "        larger_encoded = b_binary\n",
        "    else:\n",
        "        larger_encoded = a_binary\n",
        "\n",
        "    if larger_encoded[0] == '1':  # Negative number\n",
        "        larger_encoded = twos_complement_to_normal(larger_encoded[1:])\n",
        "        decoded_result = -int(larger_encoded, 2)\n",
        "    else:\n",
        "        decoded_result = int(larger_encoded[1:], 2)\n",
        "\n",
        "    return decoded_result\n",
        "\n",
        "\n",
        "output = highest_count_key\n",
        "a_binary, b_binary = encode_integers(a, b)\n",
        "decoded_result = decode_output(output, a_binary, b_binary)\n",
        "print(\"decoded_result = \", decoded_result)\n"
      ],
      "metadata": {
        "colab": {
          "base_uri": "https://localhost:8080/"
        },
        "id": "H3sfDxvJGNp_",
        "outputId": "f556783f-755c-4f9f-adbd-e17d265b729c"
      },
      "execution_count": 10,
      "outputs": [
        {
          "output_type": "stream",
          "name": "stdout",
          "text": [
            "decoded_result =  -2\n"
          ]
        }
      ]
    }
  ]
}